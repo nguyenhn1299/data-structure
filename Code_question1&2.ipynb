{
  "nbformat": 4,
  "nbformat_minor": 0,
  "metadata": {
    "colab": {
      "name": "Code_question1&2.ipynb",
      "provenance": []
    },
    "kernelspec": {
      "name": "python3",
      "display_name": "Python 3"
    }
  },
  "cells": [
    {
      "cell_type": "markdown",
      "metadata": {
        "id": "91OGMDa0meCN"
      },
      "source": [
        "### Import timer "
      ]
    },
    {
      "cell_type": "code",
      "metadata": {
        "id": "J98Gr3_rmif-"
      },
      "source": [
        "from timeit import default_timer as timer"
      ],
      "execution_count": 1,
      "outputs": []
    },
    {
      "cell_type": "markdown",
      "metadata": {
        "id": "nPO3JYaVmZTQ"
      },
      "source": [
        "# Question 1: Fibonacci"
      ]
    },
    {
      "cell_type": "code",
      "metadata": {
        "id": "odaQG3pVMk9-"
      },
      "source": [
        "def fibonacci(n):\n",
        "  n1, n2 = 0, 1\n",
        "  if (n < 2):\n",
        "    return n1\n",
        "  for i in range(n - 2):\n",
        "    n1, n2 = n2, n1+n2\n",
        "  return n2"
      ],
      "execution_count": 2,
      "outputs": []
    },
    {
      "cell_type": "code",
      "metadata": {
        "id": "UJnKHmfDon9_"
      },
      "source": [
        "def time_fib(n):\n",
        "  start = timer()\n",
        "  fibonacci(n)\n",
        "  end = timer()\n",
        "  print((end-start) * 1000)"
      ],
      "execution_count": 3,
      "outputs": []
    },
    {
      "cell_type": "code",
      "metadata": {
        "id": "tpO9b-jWqejf",
        "colab": {
          "base_uri": "https://localhost:8080/"
        },
        "outputId": "b4cc5b58-050a-4e55-de04-6ffdda3ba5ce"
      },
      "source": [
        "time_fib(100000)"
      ],
      "execution_count": 7,
      "outputs": [
        {
          "output_type": "stream",
          "text": [
            "149.02268099999105\n"
          ],
          "name": "stdout"
        }
      ]
    },
    {
      "cell_type": "markdown",
      "metadata": {
        "id": "COdAmPa6mwR_"
      },
      "source": [
        "#Question 2: Prime"
      ]
    },
    {
      "cell_type": "code",
      "metadata": {
        "id": "1Z8SY5tjVINm"
      },
      "source": [
        "def isPrime(n) : \n",
        "    # Corner cases \n",
        "    if (n <= 1) : \n",
        "        return False\n",
        "    if (n <= 3) : \n",
        "        return True\n",
        "  \n",
        "    # This is checked so that we can skip  \n",
        "    # middle five numbers in below loop \n",
        "    if (n % 2 == 0 or n % 3 == 0) : \n",
        "        return False\n",
        "  \n",
        "    i = 5\n",
        "    while(i * i <= n) : \n",
        "        if (n % i == 0 or n % (i + 2) == 0) : \n",
        "            return False\n",
        "        i = i + 6\n",
        "  \n",
        "    return True"
      ],
      "execution_count": 8,
      "outputs": []
    },
    {
      "cell_type": "code",
      "metadata": {
        "colab": {
          "base_uri": "https://localhost:8080/"
        },
        "id": "RNRTn_Cpm-5q",
        "outputId": "4d6ea60b-f376-4528-c096-1d94bf957a0e"
      },
      "source": [
        "# Count the number of primes\n",
        "start = timer()\n",
        "count = 0\n",
        "for i in range(1, pow(10,3)):\n",
        "  if isPrime(i):\n",
        "    count += 1\n",
        "end = timer()\n",
        "print(end-start)"
      ],
      "execution_count": 9,
      "outputs": [
        {
          "output_type": "stream",
          "text": [
            "0.0004357319999996889\n"
          ],
          "name": "stdout"
        }
      ]
    },
    {
      "cell_type": "markdown",
      "metadata": {
        "id": "m7JmRC5LnXWg"
      },
      "source": [
        "#Reference\n",
        "https://www.geeksforgeeks.org/primality-test-set-1-introduction-and-school-method/"
      ]
    }
  ]
}