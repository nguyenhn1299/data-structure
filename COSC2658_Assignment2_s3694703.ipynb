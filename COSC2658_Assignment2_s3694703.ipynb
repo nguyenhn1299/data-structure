{
  "nbformat": 4,
  "nbformat_minor": 0,
  "metadata": {
    "colab": {
      "name": "COSC2658_Assignment2_s3694703.ipynb",
      "provenance": [],
      "collapsed_sections": [],
      "toc_visible": true
    },
    "kernelspec": {
      "name": "python3",
      "display_name": "Python 3"
    }
  },
  "cells": [
    {
      "cell_type": "code",
      "metadata": {
        "id": "nRC3d8JDxa7h"
      },
      "source": [
        "from random import randint\r\n",
        "from timeit import default_timer as timer\r\n",
        "from tabulate import tabulate\r\n",
        "\r\n",
        "from matplotlib import pyplot as plt  \r\n",
        "import numpy as np  \r\n",
        "\r\n",
        "import unittest\r\n",
        "import time\r\n",
        "from numpy import random\r\n",
        "import math "
      ],
      "execution_count": null,
      "outputs": []
    },
    {
      "cell_type": "markdown",
      "metadata": {
        "id": "0OieZqBLYRPO"
      },
      "source": [
        "# Question 1: Search item in Split-Sorted Array"
      ]
    },
    {
      "cell_type": "markdown",
      "metadata": {
        "id": "11dgirQ9Zzwb"
      },
      "source": [
        "### Define helper functions"
      ]
    },
    {
      "cell_type": "code",
      "metadata": {
        "id": "G3pnANv6ZxVS"
      },
      "source": [
        "def random_sorted(size, max_value, min_value = 1):\r\n",
        "    a = random.randint(min_value, max_value + 1, size)\r\n",
        "    a.sort()\r\n",
        "    return a\r\n",
        "\r\n",
        "def my_reverse(arr, start=0, end=None):\r\n",
        "    if end is None:\r\n",
        "        end = len(arr)\r\n",
        "    while (start < end ):\r\n",
        "        arr[start], arr[end - 1] = arr[end - 1], arr[start]\r\n",
        "        start += 1\r\n",
        "        end -= 1\r\n",
        "\r\n",
        "def create_split_sorted(arr, k):\r\n",
        "    my_reverse(arr)\r\n",
        "    my_reverse(arr, end=k)\r\n",
        "    my_reverse(arr, k)"
      ],
      "execution_count": null,
      "outputs": []
    },
    {
      "cell_type": "code",
      "metadata": {
        "colab": {
          "base_uri": "https://localhost:8080/"
        },
        "id": "3__-z09maAAY",
        "outputId": "4b3231cf-a723-4a53-c043-a4f9c2726662"
      },
      "source": [
        "print(\"Test random sorted array generator\")\r\n",
        "print(\"----------------------------------\")\r\n",
        "print(\"Size: 3 & Value range: [1,100] \")\r\n",
        "print(random_sorted(3, 100))\r\n",
        "print()\r\n",
        "print(\"Size: 10 & Value range: [1,1000] \")\r\n",
        "print(random_sorted(10, 1000))"
      ],
      "execution_count": null,
      "outputs": [
        {
          "output_type": "stream",
          "text": [
            "Test random sorted array generator\n",
            "----------------------------------\n",
            "Size: 3 & Value range: [1,100] \n",
            "[48, 73, 95]\n",
            "\n",
            "Size: 10 & Value range: [1,1000] \n",
            "[347, 676, 771, 801, 808, 818, 863, 923, 977, 999]\n"
          ],
          "name": "stdout"
        }
      ]
    },
    {
      "cell_type": "code",
      "metadata": {
        "colab": {
          "base_uri": "https://localhost:8080/"
        },
        "id": "_8cVR_ZgaDNT",
        "outputId": "bffebcdd-cc06-4554-a736-7061f3eb07d8"
      },
      "source": [
        "print(\"Test reverse array function\")\r\n",
        "print(\"----------------------------------\")\r\n",
        "my_arr = random_sorted(5, 100)\r\n",
        "print(\"Origin array: \", my_arr)\r\n",
        "print()\r\n",
        "my_reverse(my_arr)\r\n",
        "print(\"Reverse array: \", my_arr)"
      ],
      "execution_count": null,
      "outputs": [
        {
          "output_type": "stream",
          "text": [
            "Test reverse array function\n",
            "----------------------------------\n",
            "Origin array:  [15, 25, 68, 79, 96]\n",
            "\n",
            "Reverse array:  [96, 79, 68, 25, 15]\n"
          ],
          "name": "stdout"
        }
      ]
    },
    {
      "cell_type": "code",
      "metadata": {
        "colab": {
          "base_uri": "https://localhost:8080/"
        },
        "id": "eS_4HwDRaE5p",
        "outputId": "ea0feea8-5d9f-406a-de7c-89278ae21809"
      },
      "source": [
        "print(\"Test split array function\")\r\n",
        "print(\"----------------------------------\")\r\n",
        "my_arr = random_sorted(8, 100)\r\n",
        "print(\"Origin array: \", my_arr)\r\n",
        "print()\r\n",
        "create_split_sorted(my_arr, 3)\r\n",
        "print(\"Splitted array at index 3: \", my_arr)"
      ],
      "execution_count": null,
      "outputs": [
        {
          "output_type": "stream",
          "text": [
            "Test split array function\n",
            "----------------------------------\n",
            "Origin array:  [4, 6, 14, 20, 65, 69, 81, 98]\n",
            "\n",
            "Splitted array at index 3:  [69, 81, 98, 4, 6, 14, 20, 65]\n"
          ],
          "name": "stdout"
        }
      ]
    },
    {
      "cell_type": "markdown",
      "metadata": {
        "id": "ymcK60RmaINO"
      },
      "source": [
        "### Declare Split Sorted class\r\n"
      ]
    },
    {
      "cell_type": "code",
      "metadata": {
        "id": "ukq1-KxiaG3P"
      },
      "source": [
        "class SplitSorted:\r\n",
        "    def __init__(self, size, max_value, split_pos):\r\n",
        "        self.size = size\r\n",
        "        self.split_pos = split_pos\r\n",
        "        # Generate random sorted array\r\n",
        "        self.arr = random_sorted(size, max_value)\r\n",
        "        # Split array\r\n",
        "        create_split_sorted(self.arr, split_pos)\r\n",
        "        # To save search result\r\n",
        "        self.searchResultDict = {}\r\n",
        "        \r\n",
        "    def search(self, key):\r\n",
        "        if key not in self.searchResultDict:\r\n",
        "            self.searchResultDict[key] = self.SearchResult(key)\r\n",
        "        self.__count = 0\r\n",
        "        self.__recursiveCount = 0\r\n",
        "        start = timer()\r\n",
        "        result = self.__search(key, 0, len(self.arr) - 1)\r\n",
        "        self.searchResultDict[key].updateResult((timer() - start) * 1000000, self.__count, self.__recursiveCount)\r\n",
        "        return result\r\n",
        "\r\n",
        "    def __search(self, key, l, h):\r\n",
        "        self.__count += 1\r\n",
        "        if l > h: # Return not found if there is nothing left\r\n",
        "            return -1\r\n",
        "        mid = (l + h) // 2\r\n",
        "\r\n",
        "        self.__count += 1\r\n",
        "        if self.arr[mid] == key: # Meet the target, return\r\n",
        "            return mid\r\n",
        "                \r\n",
        "        self.__count += 2\r\n",
        "        # SPECIAL CASE: loop until find out low, high and mid has difference\r\n",
        "        while ((self.arr[l] == self.arr[mid]) and (self.arr[h] == self.arr[mid])):\r\n",
        "            self.__count += 1\r\n",
        "            if (l >= h): return -1 # Iterated through all elements, return not found\r\n",
        "            l += 1\r\n",
        "            h -= 1 \r\n",
        "            self.__count += 2\r\n",
        "  \r\n",
        "        self.__count += 1\r\n",
        "        self.__recursiveCount += 1\r\n",
        "        if self.arr[l] <= self.arr[mid]: # If the first array is sorted  \r\n",
        "            self.__count += 1  \r\n",
        "            if self.arr[l] <= key and key <= self.arr[mid]: # If sorted range has key\r\n",
        "                return self.__search(key, l, mid-1) #  Move to sorted array\r\n",
        "            return self.__search(key, mid + 1, h) # Otherwise, move to split-sorted array\r\n",
        "          \r\n",
        "        # If the first array is not sorted, the second must be sorted\r\n",
        "        self.__count += 1\r\n",
        "        if self.arr[mid] <= key and key <= self.arr[h]: # If sorted range has key\r\n",
        "            return self.__search(key, mid + 1, h) # Move to sorted array\r\n",
        "        return self.__search(key, l, mid-1) # Otherwise, move to split-sorted array\r\n",
        "    \r\n",
        "    def averageTimeAllTestCases(self):\r\n",
        "        sum = 0\r\n",
        "        count = 0\r\n",
        "        for value in self.searchResultDict.values():\r\n",
        "            sum += value.averageTime\r\n",
        "            count += 1\r\n",
        "        return sum / count\r\n",
        "\r\n",
        "    class SearchResult:\r\n",
        "        def __init__(self, key):\r\n",
        "            self.key = key\r\n",
        "            self.count = 0\r\n",
        "            self.averageTime = 0\r\n",
        "            self.results = []\r\n",
        "        def updateResult(self, measured_time, count, recursiveCount):\r\n",
        "            self.count = count\r\n",
        "            self.recursiveCount = recursiveCount\r\n",
        "            self.averageTime = (self.averageTime * len(self.results) + measured_time) / (len(self.results) + 1)\r\n",
        "            self.results.append(measured_time)"
      ],
      "execution_count": null,
      "outputs": []
    },
    {
      "cell_type": "markdown",
      "metadata": {
        "id": "gT2Wg0LrTmdM"
      },
      "source": [
        "### Define functions to run test\r\n",
        "Function 1: Randomly generating 10 keys and list of random split-sorted with different size\r\n",
        "\r\n",
        "Function 2: Run all test cases and print timing result\r\n"
      ]
    },
    {
      "cell_type": "code",
      "metadata": {
        "id": "h0Fb-xKfpIdF"
      },
      "source": [
        "def generate_test_data(min_value, max_value, arr_size):\r\n",
        "  # Generate 10 random key\r\n",
        "  split_sorteds = []\r\n",
        "  keys = []\r\n",
        "  i = 0\r\n",
        "  while i < 10:\r\n",
        "      key = randint(min_value, max_value) # Randomly create key\r\n",
        "      if key not in keys: # If key is not exist, save. Otherwise, ignore\r\n",
        "          keys.append(key)\r\n",
        "          i += 1\r\n",
        "  print(\"Keys to be searched: \", keys)\r\n",
        "\r\n",
        "  for size in arr_size:\r\n",
        "      print(\"Generating random array with size \" + str(size) + \".......\", end=\"\")\r\n",
        "      # Random select split position K \r\n",
        "      split_pos = randint(0, size - 1)\r\n",
        "\r\n",
        "      # Generate split sorted \r\n",
        "      my_split_sorted = SplitSorted(size, max_value, split_pos)\r\n",
        "\r\n",
        "      split_sorteds.append(my_split_sorted)\r\n",
        "      print(\" Finished\")\r\n",
        "  return (split_sorteds, keys)"
      ],
      "execution_count": null,
      "outputs": []
    },
    {
      "cell_type": "code",
      "metadata": {
        "id": "5iS46kvipXUq"
      },
      "source": [
        "def test_run(split_sorted_list, key_list, number_of_test):\r\n",
        "  for split_sorted in split_sorted_list:\r\n",
        "    \r\n",
        "    table_data = []\r\n",
        "    for key in key_list: \r\n",
        "        for _ in range(number_of_test):\r\n",
        "            split_sorted.search(key)\r\n",
        "        search_result = split_sorted.searchResultDict[key]\r\n",
        "        row_data = [split_sorted.size if key == key_list[0] else '', # Print size\r\n",
        "                    split_sorted.split_pos if key == key_list[0] else '', # Print split position\r\n",
        "                    key, # Print key\r\n",
        "                    search_result.count, # Print number of comparison operation\r\n",
        "                    search_result.recursiveCount, # Print number of recursive call\r\n",
        "                    \"%.3f\" % search_result.averageTime] # Print average time of 5 runs\r\n",
        "        table_data.append(row_data)\r\n",
        "    \r\n",
        "    table_data.append(['', '', '', '', '', '-----------'])\r\n",
        "    table_data.append(['', '', '', '', '', \"%.3f\" % split_sorted.averageTimeAllTestCases()])\r\n",
        "    print(tabulate(table_data, headers=headers, tablefmt=tablefmt))\r\n",
        "    print()"
      ],
      "execution_count": null,
      "outputs": []
    },
    {
      "cell_type": "markdown",
      "metadata": {
        "id": "_BgYUaRMdIRX"
      },
      "source": [
        "### Generate randomly and record search result"
      ]
    },
    {
      "cell_type": "code",
      "metadata": {
        "id": "6qI93v_QcXp4"
      },
      "source": [
        "# Test Parameter Configuration\r\n",
        "min_value = 1\r\n",
        "max_value = 1000\r\n",
        "arr_size = [100000, 200000, 400000, 800000, 1600000]\r\n",
        "number_of_test = 5\r\n",
        "\r\n",
        "# Print configuration\r\n",
        "headers=[\"Array size\", \"Split position\", \"Searched value\", \"Compare operations\", \"Recursions\", \"Average time (us)\"]\r\n",
        "tablefmt=\"pretty\""
      ],
      "execution_count": null,
      "outputs": []
    },
    {
      "cell_type": "code",
      "metadata": {
        "colab": {
          "base_uri": "https://localhost:8080/"
        },
        "id": "8XKuZu49pOLJ",
        "outputId": "ca8a843e-5a14-4d4b-a099-cab9703f7ddb"
      },
      "source": [
        "my_split_sorteds, my_keys = generate_test_data(min_value, max_value, arr_size)"
      ],
      "execution_count": null,
      "outputs": [
        {
          "output_type": "stream",
          "text": [
            "Keys to be searched:  [45, 439, 258, 485, 80, 172, 94, 75, 354, 85]\n",
            "Generating random array with size 100000....... Finished\n",
            "Generating random array with size 200000....... Finished\n",
            "Generating random array with size 400000....... Finished\n",
            "Generating random array with size 800000....... Finished\n",
            "Generating random array with size 1600000....... Finished\n"
          ],
          "name": "stdout"
        }
      ]
    },
    {
      "cell_type": "code",
      "metadata": {
        "colab": {
          "base_uri": "https://localhost:8080/"
        },
        "id": "rd2LhrnBIRMv",
        "outputId": "d68ba37a-4cc4-463f-96df-e7ab4e66716d"
      },
      "source": [
        "test_run(my_split_sorteds, my_keys, number_of_test)"
      ],
      "execution_count": null,
      "outputs": [
        {
          "output_type": "stream",
          "text": [
            "+------------+----------------+----------------+--------------------+------------+-------------------+\n",
            "| Array size | Split position | Searched value | Compare operations | Recursions | Average time (us) |\n",
            "+------------+----------------+----------------+--------------------+------------+-------------------+\n",
            "|   100000   |     23425      |       45       |         56         |     9      |      14.340       |\n",
            "|            |                |      439       |         56         |     9      |      20.080       |\n",
            "|            |                |      258       |         50         |     8      |      11.486       |\n",
            "|            |                |      485       |         56         |     9      |      13.086       |\n",
            "|            |                |       80       |         56         |     9      |      12.642       |\n",
            "|            |                |      172       |         50         |     8      |      12.232       |\n",
            "|            |                |       94       |         56         |     9      |      12.480       |\n",
            "|            |                |       75       |         44         |     7      |       9.844       |\n",
            "|            |                |      354       |         50         |     8      |      13.128       |\n",
            "|            |                |       85       |         50         |     8      |      14.646       |\n",
            "|            |                |                |                    |            |    -----------    |\n",
            "|            |                |                |                    |            |      13.396       |\n",
            "+------------+----------------+----------------+--------------------+------------+-------------------+\n",
            "\n",
            "+------------+----------------+----------------+--------------------+------------+-------------------+\n",
            "| Array size | Split position | Searched value | Compare operations | Recursions | Average time (us) |\n",
            "+------------+----------------+----------------+--------------------+------------+-------------------+\n",
            "|   200000   |     178028     |       45       |         50         |     8      |      36.906       |\n",
            "|            |                |      439       |         56         |     9      |      13.916       |\n",
            "|            |                |      258       |         56         |     9      |      14.172       |\n",
            "|            |                |      485       |         62         |     10     |      14.488       |\n",
            "|            |                |       80       |         50         |     8      |      12.738       |\n",
            "|            |                |      172       |         20         |     3      |       4.892       |\n",
            "|            |                |       94       |         32         |     5      |       7.268       |\n",
            "|            |                |       75       |         56         |     9      |      12.570       |\n",
            "|            |                |      354       |         50         |     8      |      11.676       |\n",
            "|            |                |       85       |         56         |     9      |      12.642       |\n",
            "|            |                |                |                    |            |    -----------    |\n",
            "|            |                |                |                    |            |      14.127       |\n",
            "+------------+----------------+----------------+--------------------+------------+-------------------+\n",
            "\n",
            "+------------+----------------+----------------+--------------------+------------+-------------------+\n",
            "| Array size | Split position | Searched value | Compare operations | Recursions | Average time (us) |\n",
            "+------------+----------------+----------------+--------------------+------------+-------------------+\n",
            "|   400000   |     278478     |       45       |         50         |     8      |      13.794       |\n",
            "|            |                |      439       |         56         |     9      |      15.780       |\n",
            "|            |                |      258       |         56         |     9      |      13.234       |\n",
            "|            |                |      485       |         50         |     8      |      11.604       |\n",
            "|            |                |       80       |         50         |     8      |      11.332       |\n",
            "|            |                |      172       |         38         |     6      |      10.072       |\n",
            "|            |                |       94       |         56         |     9      |      12.840       |\n",
            "|            |                |       75       |         56         |     9      |      12.826       |\n",
            "|            |                |      354       |         56         |     9      |      13.228       |\n",
            "|            |                |       85       |         26         |     4      |       6.020       |\n",
            "|            |                |                |                    |            |    -----------    |\n",
            "|            |                |                |                    |            |      12.073       |\n",
            "+------------+----------------+----------------+--------------------+------------+-------------------+\n",
            "\n",
            "+------------+----------------+----------------+--------------------+------------+-------------------+\n",
            "| Array size | Split position | Searched value | Compare operations | Recursions | Average time (us) |\n",
            "+------------+----------------+----------------+--------------------+------------+-------------------+\n",
            "|   800000   |     777870     |       45       |         56         |     9      |      15.004       |\n",
            "|            |                |      439       |         56         |     9      |      16.610       |\n",
            "|            |                |      258       |         56         |     9      |      13.072       |\n",
            "|            |                |      485       |         44         |     7      |      10.322       |\n",
            "|            |                |       80       |         56         |     9      |      12.582       |\n",
            "|            |                |      172       |         56         |     9      |      13.078       |\n",
            "|            |                |       94       |         56         |     9      |      12.652       |\n",
            "|            |                |       75       |         32         |     5      |       8.526       |\n",
            "|            |                |      354       |         50         |     8      |      11.728       |\n",
            "|            |                |       85       |         50         |     8      |      11.138       |\n",
            "|            |                |                |                    |            |    -----------    |\n",
            "|            |                |                |                    |            |      12.471       |\n",
            "+------------+----------------+----------------+--------------------+------------+-------------------+\n",
            "\n",
            "+------------+----------------+----------------+--------------------+------------+-------------------+\n",
            "| Array size | Split position | Searched value | Compare operations | Recursions | Average time (us) |\n",
            "+------------+----------------+----------------+--------------------+------------+-------------------+\n",
            "|  1600000   |     315382     |       45       |         38         |     6      |      11.236       |\n",
            "|            |                |      439       |         44         |     7      |      11.030       |\n",
            "|            |                |      258       |         50         |     8      |      14.920       |\n",
            "|            |                |      485       |         56         |     9      |      13.044       |\n",
            "|            |                |       80       |         56         |     9      |      12.774       |\n",
            "|            |                |      172       |         56         |     9      |      12.722       |\n",
            "|            |                |       94       |         56         |     9      |      13.562       |\n",
            "|            |                |       75       |         50         |     8      |      11.134       |\n",
            "|            |                |      354       |         44         |     7      |      10.378       |\n",
            "|            |                |       85       |         26         |     4      |       6.066       |\n",
            "|            |                |                |                    |            |    -----------    |\n",
            "|            |                |                |                    |            |      11.686       |\n",
            "+------------+----------------+----------------+--------------------+------------+-------------------+\n",
            "\n"
          ],
          "name": "stdout"
        }
      ]
    },
    {
      "cell_type": "markdown",
      "metadata": {
        "id": "SoZqXLAVfAIa"
      },
      "source": [
        "### Distribution of Generated Array"
      ]
    },
    {
      "cell_type": "code",
      "metadata": {
        "colab": {
          "base_uri": "https://localhost:8080/",
          "height": 554
        },
        "id": "NTcipN1HgCHb",
        "outputId": "428fb4d2-ea2e-4b9c-c441-32be7ec39507"
      },
      "source": [
        "fig, axs = plt.subplots(2, 3 ,figsize=(17,8))\r\n",
        "fig.subplots_adjust(hspace = 0.3, wspace=0.3)\r\n",
        "fig.suptitle('Distribution of values in Random Split-sorted array')\r\n",
        "i = j = 0\r\n",
        "for split_sorted in my_split_sorteds:\r\n",
        "  axs[i, j].hist(split_sorted.arr, bins=list(range(min_value, max_value + 1)))\r\n",
        "  axs[i, j].set_title(\"Array size \" + str(len(split_sorted.arr))) \r\n",
        "  axs[i, j].set_xlabel(\"Value\")\r\n",
        "  axs[i, j].set_ylabel(\"Frequency\") \r\n",
        "  j += 1\r\n",
        "  if j == 3:\r\n",
        "    i += 1\r\n",
        "    j = 0\r\n",
        "\r\n",
        "fig.delaxes(axs[i,j])"
      ],
      "execution_count": null,
      "outputs": [
        {
          "output_type": "display_data",
          "data": {
            "image/png": "[encoded data removed]",
            "text/plain": [
              "<Figure size 1224x576 with 5 Axes>"
            ]
          },
          "metadata": {
            "tags": [],
            "needs_background": "light"
          }
        }
      ]
    },
    {
      "cell_type": "markdown",
      "metadata": {
        "id": "5E3_PfyD-vSr"
      },
      "source": [
        "### Run worst case"
      ]
    },
    {
      "cell_type": "code",
      "metadata": {
        "id": "44n6iKwsC9s2"
      },
      "source": [
        "# Test Parameter Configuration\r\n",
        "min_value = 1\r\n",
        "max_value = 1\r\n",
        "arr_size = [5000, 10000, 25000, 50000, 100000, 200000, 400000, 800000, 1600000]\r\n",
        "number_of_test = 5"
      ],
      "execution_count": null,
      "outputs": []
    },
    {
      "cell_type": "code",
      "metadata": {
        "colab": {
          "base_uri": "https://localhost:8080/"
        },
        "id": "VFlT1VgnDcoZ",
        "outputId": "f8dbe0b2-3ffe-4764-a277-566ed18081c6"
      },
      "source": [
        "table_data = []\r\n",
        "for size in arr_size:\r\n",
        "  split_sorted = SplitSorted(size, max_value, randint(0, size - 1))\r\n",
        "  for _ in range(number_of_test):\r\n",
        "    split_sorted.search(max_value + 1)\r\n",
        "  search_result = split_sorted.searchResultDict[max_value + 1]\r\n",
        "  row_data = [split_sorted.size, # Print size\r\n",
        "                split_sorted.split_pos, # Print split position\r\n",
        "                max_value + 1, # Print key\r\n",
        "                search_result.count, # Print number of comparison operation\r\n",
        "                search_result.recursiveCount, # Print number of recursive call\r\n",
        "                \"%.3f\" % search_result.averageTime] # Print average time of 5 runs\r\n",
        "  table_data.append(row_data)\r\n",
        "\r\n",
        "    \r\n",
        "print(tabulate(table_data, headers=headers, tablefmt=tablefmt))"
      ],
      "execution_count": null,
      "outputs": [
        {
          "output_type": "stream",
          "text": [
            "+------------+----------------+----------------+--------------------+------------+-------------------+\n",
            "| Array size | Split position | Searched value | Compare operations | Recursions | Average time (us) |\n",
            "+------------+----------------+----------------+--------------------+------------+-------------------+\n",
            "|    5000    |      1385      |       2        |        7505        |     0      |     1476.756      |\n",
            "|   10000    |      5450      |       2        |       15005        |     0      |     2621.413      |\n",
            "|   25000    |     13091      |       2        |       37505        |     0      |     6285.697      |\n",
            "|   50000    |      8488      |       2        |       75005        |     0      |     12415.573     |\n",
            "|   100000   |     87671      |       2        |       150005       |     0      |     24519.385     |\n",
            "|   200000   |     163684     |       2        |       300005       |     0      |     49549.354     |\n",
            "|   400000   |     298723     |       2        |       600005       |     0      |    100286.614     |\n",
            "|   800000   |     551839     |       2        |      1200005       |     0      |    203831.880     |\n",
            "|  1600000   |    1002036     |       2        |      2400005       |     0      |    388145.427     |\n",
            "+------------+----------------+----------------+--------------------+------------+-------------------+\n"
          ],
          "name": "stdout"
        }
      ]
    },
    {
      "cell_type": "code",
      "metadata": {
        "id": "rp3ehgi0KVgt"
      },
      "source": [
        "# Test Parameter Configuration\r\n",
        "min_value = 1\r\n",
        "max_value = 1000\r\n",
        "arr_size = [2500,5000, 10000, 25000, 50000, 100000, 200000, 400000, 800000, 1600000]\r\n",
        "number_of_test = 5"
      ],
      "execution_count": null,
      "outputs": []
    },
    {
      "cell_type": "code",
      "metadata": {
        "colab": {
          "base_uri": "https://localhost:8080/"
        },
        "id": "hWmTY793JIO7",
        "outputId": "df33c3f0-73eb-407e-afc4-4f07e8217a70"
      },
      "source": [
        "table_data = []\r\n",
        "for size in arr_size:\r\n",
        "  split_sorted = SplitSorted(size, max_value, randint(0, size - 1))\r\n",
        "  for _ in range(number_of_test):\r\n",
        "    split_sorted.search(max_value + 1)\r\n",
        "  search_result = split_sorted.searchResultDict[max_value + 1]\r\n",
        "  row_data = [split_sorted.size, # Print size\r\n",
        "                split_sorted.split_pos, # Print split position\r\n",
        "                max_value + 1, # Print key\r\n",
        "                search_result.count, # Print number of comparison operation\r\n",
        "                search_result.recursiveCount, # Print number of recursive call\r\n",
        "                \"%.3f\" % search_result.averageTime] # Print average time of 5 runs\r\n",
        "  table_data.append(row_data)\r\n",
        "\r\n",
        "    \r\n",
        "print(tabulate(table_data, headers=headers, tablefmt=tablefmt))"
      ],
      "execution_count": null,
      "outputs": [
        {
          "output_type": "stream",
          "text": [
            "+------------+----------------+----------------+--------------------+------------+-------------------+\n",
            "| Array size | Split position | Searched value | Compare operations | Recursions | Average time (us) |\n",
            "+------------+----------------+----------------+--------------------+------------+-------------------+\n",
            "|    5000    |      2670      |      1001      |         68         |     11     |      15.020       |\n",
            "|   10000    |      7178      |      1001      |         74         |     12     |      16.045       |\n",
            "|   25000    |     12999      |      1001      |         80         |     13     |      18.635       |\n",
            "|   50000    |     34395      |      1001      |         91         |     15     |      20.696       |\n",
            "|   100000   |     82829      |      1001      |         92         |     15     |      21.982       |\n",
            "|   200000   |     69158      |      1001      |         98         |     16     |      22.487       |\n",
            "|   400000   |     178466     |      1001      |        104         |     17     |      25.162       |\n",
            "|   800000   |     310662     |      1001      |        116         |     19     |      27.491       |\n",
            "|  1600000   |    1136764     |      1001      |        122         |     20     |      31.424       |\n",
            "+------------+----------------+----------------+--------------------+------------+-------------------+\n"
          ],
          "name": "stdout"
        }
      ]
    },
    {
      "cell_type": "markdown",
      "metadata": {
        "id": "TXTF8dvbyM92"
      },
      "source": [
        "### Run unit test for special cases"
      ]
    },
    {
      "cell_type": "code",
      "metadata": {
        "id": "DJMTxIDNRAOA"
      },
      "source": [
        "import unittest\r\n",
        "\r\n",
        "class TestSearchMethod(unittest.TestCase):\r\n",
        "\r\n",
        "    # Test when the split occurred at position 0\r\n",
        "    def test_split_at_0(self):\r\n",
        "        # Create array\r\n",
        "        my_split_sorted = SplitSorted(size = 10, max_value = 100, split_pos = 0)\r\n",
        "        # Key at first\r\n",
        "        value = my_split_sorted.arr[1]\r\n",
        "        search_result = my_split_sorted.search(value)\r\n",
        "        self.assertEqual(my_split_sorted.arr[search_result], value)\r\n",
        "\r\n",
        "        # Key at last\r\n",
        "        value = my_split_sorted.arr[9]\r\n",
        "        search_result = my_split_sorted.search(value)\r\n",
        "        self.assertEqual(my_split_sorted.arr[search_result], value)\r\n",
        "\r\n",
        "        # Many Duplicates Array\r\n",
        "        my_split_sorted = SplitSorted(size = 1000, max_value = 10, split_pos = 0)\r\n",
        "        value = my_split_sorted.arr[1]\r\n",
        "        search_result = my_split_sorted.search(value)\r\n",
        "        self.assertEqual(my_split_sorted.arr[search_result], value)\r\n",
        "\r\n",
        "    # Test when the required number is at the first position in array\r\n",
        "    def test_key_at_first(self):\r\n",
        "        # Normal array\r\n",
        "        my_split_sorted = SplitSorted(size = 10, max_value = 100, split_pos = 5)\r\n",
        "        value = my_split_sorted.arr[0]\r\n",
        "        search_result = my_split_sorted.search(value)\r\n",
        "        self.assertEqual(my_split_sorted.arr[search_result], value)\r\n",
        "\r\n",
        "        # Many Duplicates Array\r\n",
        "        my_split_sorted = SplitSorted(size = 1000, max_value = 10, split_pos = 90)\r\n",
        "        value = my_split_sorted.arr[0]\r\n",
        "        search_result = my_split_sorted.search(value)\r\n",
        "        self.assertEqual(my_split_sorted.arr[search_result], value)\r\n",
        "\r\n",
        "        # One-value array \r\n",
        "        my_split_sorted = SplitSorted(size = 10, max_value = 1, split_pos = 4)\r\n",
        "        value = my_split_sorted.arr[0]\r\n",
        "        search_result = my_split_sorted.search(value)\r\n",
        "        self.assertEqual(my_split_sorted.arr[search_result], value)\r\n",
        "\r\n",
        "    # Test when the required number is at the last position in array\r\n",
        "    def test_key_at_last(self):\r\n",
        "         # Normal array\r\n",
        "        my_split_sorted = SplitSorted(size = 10, max_value = 100, split_pos = 5)\r\n",
        "        value = my_split_sorted.arr[9]\r\n",
        "        search_result = my_split_sorted.search(value)\r\n",
        "        self.assertEqual(my_split_sorted.arr[search_result], value)\r\n",
        "\r\n",
        "        # Many Duplicates Array\r\n",
        "        my_split_sorted = SplitSorted(size = 1000, max_value = 10, split_pos = 90)\r\n",
        "        value = my_split_sorted.arr[999]\r\n",
        "        search_result = my_split_sorted.search(value)\r\n",
        "        self.assertEqual(my_split_sorted.arr[search_result], value)\r\n",
        "\r\n",
        "        # One-value array \r\n",
        "        my_split_sorted = SplitSorted(size = 10, max_value = 1, split_pos = 4)\r\n",
        "        value = my_split_sorted.arr[9]\r\n",
        "        search_result = my_split_sorted.search(value)\r\n",
        "        self.assertEqual(my_split_sorted.arr[search_result], value)\r\n",
        "        \r\n",
        "    # Test when the required number is not in array\r\n",
        "    def test_key_not_available(self):\r\n",
        "        # Split-sorted array\r\n",
        "        my_split_sorted = SplitSorted(size = 10, max_value = 100, split_pos = 2)\r\n",
        "        search_result = my_split_sorted.search(101)\r\n",
        "        self.assertEqual(search_result, -1)\r\n",
        "\r\n",
        "        # Sorted array\r\n",
        "        my_split_sorted = SplitSorted(size = 20, max_value = 100, split_pos = 0)\r\n",
        "        search_result = my_split_sorted.search(101)\r\n",
        "        self.assertEqual(search_result, -1)\r\n",
        "\r\n",
        "        # Many Duplicates array\r\n",
        "        my_split_sorted = SplitSorted(size = 1000, max_value = 10, split_pos = 2)\r\n",
        "        search_result = my_split_sorted.search(101)\r\n",
        "        self.assertEqual(search_result, -1)"
      ],
      "execution_count": null,
      "outputs": []
    },
    {
      "cell_type": "code",
      "metadata": {
        "colab": {
          "base_uri": "https://localhost:8080/"
        },
        "id": "9S8jpQMxzPkd",
        "outputId": "5db2ae88-1d7f-4c4e-f00c-5f8fbb44421a"
      },
      "source": [
        "unittest.main(argv=['first-arg-is-ignored'], exit=False, verbosity=2)"
      ],
      "execution_count": null,
      "outputs": [
        {
          "output_type": "stream",
          "text": [
            "test_key_at_first (__main__.TestSearchMethod) ... ok\n",
            "test_key_at_last (__main__.TestSearchMethod) ... ok\n",
            "test_key_not_available (__main__.TestSearchMethod) ... ok\n",
            "test_split_at_0 (__main__.TestSearchMethod) ... ok\n",
            "\n",
            "----------------------------------------------------------------------\n",
            "Ran 4 tests in 0.020s\n",
            "\n",
            "OK\n"
          ],
          "name": "stderr"
        },
        {
          "output_type": "execute_result",
          "data": {
            "text/plain": [
              "<unittest.main.TestProgram at 0x7f6c617a1cc0>"
            ]
          },
          "metadata": {
            "tags": []
          },
          "execution_count": 75
        }
      ]
    },
    {
      "cell_type": "markdown",
      "metadata": {
        "id": "yMak4x_aALfD"
      },
      "source": [
        "# Question 2"
      ]
    },
    {
      "cell_type": "markdown",
      "metadata": {
        "id": "bZEky-u-ANXe"
      },
      "source": [
        "### Find pair whose sum is closest to 0"
      ]
    },
    {
      "cell_type": "code",
      "metadata": {
        "id": "GmxqJLlXri0s"
      },
      "source": [
        "def pair_sum_closest(arr):\r\n",
        "  # l and r saves the current position during traversal from two ends (left and right)\r\n",
        "  # min_l and min_r saves 2 terms that currently create the smallest sum\r\n",
        "  l = min_l = 0\r\n",
        "  r = min_r = len(arr) - 1\r\n",
        "\r\n",
        "  # to save the current min sum\r\n",
        "  min_sum = abs(arr[l] + arr[r])\r\n",
        "\r\n",
        "  # Traverse through the array from two ends in opposite directions\r\n",
        "  while (l < r): \r\n",
        "    sum = arr[l] + arr[r]\r\n",
        "\r\n",
        "    # If the calculated sum is less than the min sum\r\n",
        "    if abs(sum) < min_sum:\r\n",
        "      # Save new min sum and its corresponding pair numbers\r\n",
        "      min_sum = sum\r\n",
        "      min_l = l\r\n",
        "      min_r = r\r\n",
        "\r\n",
        "    # Regarding the absolute value, if one of the left element is greater than one of the right \r\n",
        "    if sum < 0:\r\n",
        "      # Then update the left element\r\n",
        "      l += 1 \r\n",
        "    else: \r\n",
        "      # Else update the right element\r\n",
        "      r -= 1\r\n",
        "  # Return the indexes of the pair \r\n",
        "  return (min_l, min_r)"
      ],
      "execution_count": null,
      "outputs": []
    },
    {
      "cell_type": "code",
      "metadata": {
        "colab": {
          "base_uri": "https://localhost:8080/"
        },
        "id": "pIcGXy1bAUpP",
        "outputId": "e8c2b5ab-3f21-4731-d06b-5f97572d1d4d"
      },
      "source": [
        "arr = [-6, -3, -1, -0, 2, 3, 4, 5, 10, 12]\r\n",
        "l, r = pair_sum_closest(arr)\r\n",
        "print(\"Sum closest to 0 is:\", arr[l] + arr[r])\r\n",
        "print(\"Two integers are:\", arr[l], \"and\", arr[r])"
      ],
      "execution_count": null,
      "outputs": [
        {
          "output_type": "stream",
          "text": [
            "Sum closest to 0 is: -1\n",
            "Two integers are: -6 and 5\n"
          ],
          "name": "stdout"
        }
      ]
    },
    {
      "cell_type": "markdown",
      "metadata": {
        "id": "XDr4HBi5A8EL"
      },
      "source": [
        "### Find minimum required number of gates"
      ]
    },
    {
      "cell_type": "code",
      "metadata": {
        "id": "wrvzGfVOA0o3"
      },
      "source": [
        "def max_gate(a, d):\r\n",
        "  a.sort()\r\n",
        "  d.sort()\r\n",
        "  i = j = gate = max_gate = 0\r\n",
        "  while i < len(a):\r\n",
        "    if (a[i] <= d[j]):\r\n",
        "      i += 1\r\n",
        "      gate += 1\r\n",
        "      max_gate = max(gate, max_gate)\r\n",
        "    else:\r\n",
        "        j += 1\r\n",
        "        gate -= 1\r\n",
        "  return max_gate"
      ],
      "execution_count": null,
      "outputs": []
    },
    {
      "cell_type": "code",
      "metadata": {
        "colab": {
          "base_uri": "https://localhost:8080/"
        },
        "id": "cs9sMC39BFyj",
        "outputId": "e9eb8ad5-73ff-4ca9-a06f-0940cda99191"
      },
      "source": [
        "arrival = ['1:00', '1:40', '1:50', '2:00','2:15', '4:00'] \r\n",
        "departure = ['1:10', '3:00', '2:20', '2:30', '3:15', '6:00']\r\n",
        "print(\"The minimum number of gates required is:\", max_gate(arrival, departure))"
      ],
      "execution_count": null,
      "outputs": [
        {
          "output_type": "stream",
          "text": [
            "The minimum number of gates required is: 4\n"
          ],
          "name": "stdout"
        }
      ]
    },
    {
      "cell_type": "markdown",
      "metadata": {
        "id": "9kxxjfwtBukq"
      },
      "source": [
        "# Question 3: Smart Binary Search"
      ]
    },
    {
      "cell_type": "markdown",
      "metadata": {
        "id": "fBa3PLYRRp8K"
      },
      "source": [
        "### Define helper functions"
      ]
    },
    {
      "cell_type": "code",
      "metadata": {
        "id": "Q7OPR1sPJzJv"
      },
      "source": [
        "def smart_binary_search(arr, key, lo, hi):\r\n",
        " \r\n",
        "    # Make sure the low position is smaller than high position\r\n",
        "    # key must be in [low, high] range\r\n",
        "    if (arr[hi] != arr[lo] and arr[lo] <= key <= arr[hi]): \r\n",
        "        # Calculate position (use uniform distribution property)\r\n",
        "        pos = lo + ((hi - lo) // (arr[hi] - arr[lo]) *  (key - arr[lo]))\r\n",
        "        # If new position is target\r\n",
        "        if arr[pos] == key:\r\n",
        "            return pos\r\n",
        " \r\n",
        "        elif arr[pos] < key: # If key is larger than element\r\n",
        "            return smart_binary_search(arr, key, pos + 1, hi) # Key is in right subarray \r\n",
        " \r\n",
        "        if arr[pos] > key: # If key is smaller than element\r\n",
        "            return smart_binary_search(arr, key, lo, pos - 1) # Key is in left subarray \r\n",
        "    \r\n",
        "    # If both of low and high element is key\r\n",
        "    if arr[lo] == key:\r\n",
        "        return lo \r\n",
        "    return -1"
      ],
      "execution_count": null,
      "outputs": []
    },
    {
      "cell_type": "code",
      "metadata": {
        "id": "6QuZik6wNjnV"
      },
      "source": [
        "def binary_search(arr, key, lo, hi):\r\n",
        "    if lo > hi:\r\n",
        "        return -1\r\n",
        "\r\n",
        "    # Calculate the middle point\r\n",
        "    mid = (lo + hi) // 2\r\n",
        "    if key == arr[mid]: # If the mid point is the target\r\n",
        "        return mid\r\n",
        "\r\n",
        "    if key < arr[mid]: # If target is smaller => move to left subarray\r\n",
        "        return binary_search(arr, key, lo, mid-1)\r\n",
        "    else: # Else, move to right subarray\r\n",
        "        return binary_search(arr, key, mid+1, hi)"
      ],
      "execution_count": null,
      "outputs": []
    },
    {
      "cell_type": "markdown",
      "metadata": {
        "id": "0ImTWOwgRuRs"
      },
      "source": [
        "### Run test"
      ]
    },
    {
      "cell_type": "code",
      "metadata": {
        "colab": {
          "base_uri": "https://localhost:8080/",
          "height": 308
        },
        "id": "9pL9XDe1Sawf",
        "outputId": "10621804-bccf-48b8-d435-954870ad4177"
      },
      "source": [
        "## Finding suitable array size\r\n",
        "fig, axs = plt.subplots(1, 4 ,figsize=(17,4))\r\n",
        "fig.subplots_adjust(hspace = 0.3, wspace=0.3)\r\n",
        "fig.suptitle('Distribution of values in Random array')\r\n",
        "i = j = 0\r\n",
        "for size in [10000, 50000, 100000, 200000]:\r\n",
        "  my_test = random_sorted(size, 1000)\r\n",
        "  axs[j].hist(my_test, bins=list(range(1, 1001)))\r\n",
        "  axs[j].set_title(\"Array size \" + str(size))\r\n",
        "  axs[j].set_xlabel(\"Value\")\r\n",
        "  axs[j].set_ylabel(\"Frequency\") \r\n",
        "  j += 1"
      ],
      "execution_count": null,
      "outputs": [
        {
          "output_type": "display_data",
          "data": {
            "image/png": "[encoded data removed]",
            "text/plain": [
              "<Figure size 1224x288 with 4 Axes>"
            ]
          },
          "metadata": {
            "tags": [],
            "needs_background": "light"
          }
        }
      ]
    },
    {
      "cell_type": "markdown",
      "metadata": {
        "id": "PmMzlHFBShho"
      },
      "source": [
        "=> From 100,000 size, the random array is nearly uniformly distributed"
      ]
    },
    {
      "cell_type": "code",
      "metadata": {
        "id": "hI-HKwapR92H"
      },
      "source": [
        "arr_list = []\r\n",
        "size_list = [100000, 200000, 400000, 800000, 1600000]\r\n",
        "for size in size_list:\r\n",
        "  arr_list.append(random_sorted(size, 1000))"
      ],
      "execution_count": null,
      "outputs": []
    },
    {
      "cell_type": "code",
      "metadata": {
        "id": "Y9sD8aNjTVJF"
      },
      "source": [
        "def run_search(arr, key, func):\r\n",
        "  timings = []\r\n",
        "  for i in range(5):\r\n",
        "    start = timer()\r\n",
        "    result = func(arr, key, 0, len(arr)-1)\r\n",
        "    timings.append(timer() - start)\r\n",
        "  return (sum(timings) / len(timings)) * 1000000"
      ],
      "execution_count": null,
      "outputs": []
    },
    {
      "cell_type": "code",
      "metadata": {
        "id": "Qy0DpDuuUYUW"
      },
      "source": [
        "def run_test_bs(arr_list, key, size_list):\r\n",
        "  table_data = []\r\n",
        "  bs_data = []\r\n",
        "  sbs_data = []\r\n",
        "  for arr in arr_list:\r\n",
        "    sbsTime = run_search(arr, key, smart_binary_search)\r\n",
        "    bsTime = run_search(arr, key, binary_search)\r\n",
        "    row_data = [len(arr) , # Print size\r\n",
        "                key, # Print key\r\n",
        "                \"%.3f\" % bsTime, # Print time for bs\r\n",
        "                \"%.3f\" % sbsTime,# Print time for smart bs\r\n",
        "            ] \r\n",
        "    table_data.append(row_data)\r\n",
        "    bs_data.append(bsTime)\r\n",
        "    sbs_data.append(sbsTime)\r\n",
        "  \r\n",
        "  # Print result\r\n",
        "  print(tabulate(table_data, headers=[\"Array size\", \"Key\", \"BS time (us)\", \"Smart BS time (us)\"], tablefmt=\"pretty\"))\r\n",
        "\r\n",
        "  # Plot line graph\r\n",
        "  plt.plot(size_list, bs_data, color='g', label=\"binary search\")\r\n",
        "  plt.plot(size_list, sbs_data, color='orange', label=\"smart binary search\")\r\n",
        "  plt.xlabel('Array size')\r\n",
        "  plt.ylabel('Run time')\r\n",
        "  plt.title('Running time of Binary Search vs Smart Binary Search with key ' + str(key))\r\n",
        "  plt.legend()\r\n",
        "  plt.show()"
      ],
      "execution_count": null,
      "outputs": []
    },
    {
      "cell_type": "markdown",
      "metadata": {
        "id": "jDYhqLmqR110"
      },
      "source": [
        "#### Key in middle"
      ]
    },
    {
      "cell_type": "code",
      "metadata": {
        "colab": {
          "base_uri": "https://localhost:8080/",
          "height": 446
        },
        "id": "MFq5nFgLNlhq",
        "outputId": "96bf8106-bf59-41e8-a4ac-e6f01ab320d7"
      },
      "source": [
        "run_test_bs(arr_list, 500, size_list)"
      ],
      "execution_count": null,
      "outputs": [
        {
          "output_type": "stream",
          "text": [
            "+------------+-----+--------------+--------------------+\n",
            "| Array size | Key | BS time (us) | Smart BS time (us) |\n",
            "+------------+-----+--------------+--------------------+\n",
            "|   100000   | 500 |    8.666     |       14.597       |\n",
            "|   200000   | 500 |    9.348     |       3.664        |\n",
            "|   400000   | 500 |    9.411     |       3.698        |\n",
            "|   800000   | 500 |    0.782     |       7.366        |\n",
            "|  1600000   | 500 |    0.787     |       3.328        |\n",
            "+------------+-----+--------------+--------------------+\n"
          ],
          "name": "stdout"
        },
        {
          "output_type": "display_data",
          "data": {
            "image/png": "[encoded data removed]",
            "text/plain": [
              "<Figure size 432x288 with 1 Axes>"
            ]
          },
          "metadata": {
            "tags": [],
            "needs_background": "light"
          }
        }
      ]
    },
    {
      "cell_type": "markdown",
      "metadata": {
        "id": "oU8qfEXlV-CP"
      },
      "source": [
        "#### Key at first"
      ]
    },
    {
      "cell_type": "code",
      "metadata": {
        "colab": {
          "base_uri": "https://localhost:8080/",
          "height": 446
        },
        "id": "tq9Rsh9GV9oE",
        "outputId": "be666573-e14e-4d4c-8416-265c96c46b23"
      },
      "source": [
        "run_test_bs(arr_list, 1, size_list)"
      ],
      "execution_count": null,
      "outputs": [
        {
          "output_type": "stream",
          "text": [
            "+------------+-----+--------------+--------------------+\n",
            "| Array size | Key | BS time (us) | Smart BS time (us) |\n",
            "+------------+-----+--------------+--------------------+\n",
            "|   100000   |  1  |    22.482    |       6.665        |\n",
            "|   200000   |  1  |    15.174    |       6.451        |\n",
            "|   400000   |  1  |    16.438    |       5.888        |\n",
            "|   800000   |  1  |    16.684    |       5.570        |\n",
            "|  1600000   |  1  |    15.291    |       4.910        |\n",
            "+------------+-----+--------------+--------------------+\n"
          ],
          "name": "stdout"
        },
        {
          "output_type": "display_data",
          "data": {
            "image/png": "[encoded data removed]",
            "text/plain": [
              "<Figure size 432x288 with 1 Axes>"
            ]
          },
          "metadata": {
            "tags": [],
            "needs_background": "light"
          }
        }
      ]
    },
    {
      "cell_type": "markdown",
      "metadata": {
        "id": "aVZ99gKbWFPq"
      },
      "source": [
        "#### Key at last"
      ]
    },
    {
      "cell_type": "code",
      "metadata": {
        "colab": {
          "base_uri": "https://localhost:8080/",
          "height": 446
        },
        "id": "JFKMF8UFWEg0",
        "outputId": "615a376c-00d5-4a33-e10f-2bb2154c079b"
      },
      "source": [
        "run_test_bs(arr_list, 999, size_list)"
      ],
      "execution_count": null,
      "outputs": [
        {
          "output_type": "stream",
          "text": [
            "+------------+-----+--------------+--------------------+\n",
            "| Array size | Key | BS time (us) | Smart BS time (us) |\n",
            "+------------+-----+--------------+--------------------+\n",
            "|   100000   | 999 |    18.494    |       15.964       |\n",
            "|   200000   | 999 |    15.083    |       12.522       |\n",
            "|   400000   | 999 |    19.021    |       11.040       |\n",
            "|   800000   | 999 |    15.247    |       5.481        |\n",
            "|  1600000   | 999 |    20.264    |       6.004        |\n",
            "+------------+-----+--------------+--------------------+\n"
          ],
          "name": "stdout"
        },
        {
          "output_type": "display_data",
          "data": {
            "image/png": "[encoded data removed]",
            "text/plain": [
              "<Figure size 432x288 with 1 Axes>"
            ]
          },
          "metadata": {
            "tags": [],
            "needs_background": "light"
          }
        }
      ]
    },
    {
      "cell_type": "markdown",
      "metadata": {
        "id": "5xCz4dpOaxQP"
      },
      "source": [
        "#### Key not available"
      ]
    },
    {
      "cell_type": "code",
      "metadata": {
        "colab": {
          "base_uri": "https://localhost:8080/",
          "height": 446
        },
        "id": "arqOUQ9FawpJ",
        "outputId": "7f3370b5-4b21-483d-c657-17e58e74606d"
      },
      "source": [
        "run_test_bs(arr_list, 1001, size_list)"
      ],
      "execution_count": null,
      "outputs": [
        {
          "output_type": "stream",
          "text": [
            "+------------+------+--------------+--------------------+\n",
            "| Array size | Key  | BS time (us) | Smart BS time (us) |\n",
            "+------------+------+--------------+--------------------+\n",
            "|   100000   | 1001 |    15.774    |       1.912        |\n",
            "|   200000   | 1001 |    20.409    |       1.940        |\n",
            "|   400000   | 1001 |    17.657    |       1.838        |\n",
            "|   800000   | 1001 |    19.415    |       1.865        |\n",
            "|  1600000   | 1001 |    19.568    |       1.910        |\n",
            "+------------+------+--------------+--------------------+\n"
          ],
          "name": "stdout"
        },
        {
          "output_type": "display_data",
          "data": {
            "image/png": "[encoded data removed]",
            "text/plain": [
              "<Figure size 432x288 with 1 Axes>"
            ]
          },
          "metadata": {
            "tags": [],
            "needs_background": "light"
          }
        }
      ]
    },
    {
      "cell_type": "markdown",
      "metadata": {
        "id": "2IXUAnWJBRU6"
      },
      "source": [
        "# Question 4: Arranging items"
      ]
    },
    {
      "cell_type": "code",
      "metadata": {
        "id": "RnjJRedCBQJW"
      },
      "source": [
        "class Item:\r\n",
        "  def __init__(self, weight, strength):\r\n",
        "    self.weight = weight\r\n",
        "    self.strength = strength\r\n",
        "    self.sum = weight + strength\r\n",
        "  def to_string(self):\r\n",
        "    print(\"Item: \" + str(self.weight) + \" \" + str(self.strength))"
      ],
      "execution_count": null,
      "outputs": []
    },
    {
      "cell_type": "code",
      "metadata": {
        "id": "SvyqxiW_BjO0"
      },
      "source": [
        "def arrange_items(items):\r\n",
        "  items.sort(key=lambda x: x.sum, reverse=True)\r\n",
        "  \r\n",
        "  bag = [items[0]]\r\n",
        "  min_strength = items[0].strength\r\n",
        "\r\n",
        "  for item in items[1:]:\r\n",
        "    if (min_strength >= item.weight):\r\n",
        "      bag.insert(0, item)\r\n",
        "      min_strength -= item.weight\r\n",
        "      if (item.strength < min_strength):\r\n",
        "        min_strength = item.strength\r\n",
        "    else:\r\n",
        "      return None\r\n",
        "  return bag"
      ],
      "execution_count": null,
      "outputs": []
    },
    {
      "cell_type": "code",
      "metadata": {
        "colab": {
          "base_uri": "https://localhost:8080/"
        },
        "id": "JfFZU-d_BlTh",
        "outputId": "b1557c31-f254-4dd3-e15b-4615f323d048"
      },
      "source": [
        "item_list = [Item(4, 3), Item(3, 6), Item(1, 9), Item(2, 2)]\r\n",
        "bag = arrange_items(item_list)\r\n",
        "if (bag is None):\r\n",
        "  print(\"No possible arrangement\")\r\n",
        "else:\r\n",
        "  for item in bag:\r\n",
        "    item.to_string()"
      ],
      "execution_count": null,
      "outputs": [
        {
          "output_type": "stream",
          "text": [
            "Item: 2 2\n",
            "Item: 4 3\n",
            "Item: 3 6\n",
            "Item: 1 9\n"
          ],
          "name": "stdout"
        }
      ]
    },
    {
      "cell_type": "code",
      "metadata": {
        "colab": {
          "base_uri": "https://localhost:8080/"
        },
        "id": "30ZJWSv1BqKp",
        "outputId": "225747ad-1ac2-4555-d915-b77030854a8c"
      },
      "source": [
        "item_list = [Item(4, 3), Item(3, 6), Item(1, 8), Item(2, 2)]\r\n",
        "bag = arrange_items(item_list)\r\n",
        "if (bag is None):\r\n",
        "  print(\"No possible arrangement\")\r\n",
        "else:\r\n",
        "  for item in bag:\r\n",
        "    item.to_string()"
      ],
      "execution_count": null,
      "outputs": [
        {
          "output_type": "stream",
          "text": [
            "No possible arrangement\n"
          ],
          "name": "stdout"
        }
      ]
    },
    {
      "cell_type": "code",
      "metadata": {
        "id": "-DDW_DuqBsMy"
      },
      "source": [
        ""
      ],
      "execution_count": null,
      "outputs": []
    }
  ]
}